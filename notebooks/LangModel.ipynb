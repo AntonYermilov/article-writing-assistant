{
 "cells": [
  {
   "cell_type": "code",
   "execution_count": 39,
   "metadata": {},
   "outputs": [],
   "source": [
    "import numpy as np\n",
    "import pandas as pd\n",
    "from nltk.tokenize import word_tokenize, sent_tokenize\n",
    "import pickle\n",
    "import torch\n",
    "import torch.nn as nn\n",
    "import torch.nn.functional as F\n",
    "import spacy\n",
    "from spacy.lang.en.examples import sentences"
   ]
  },
  {
   "cell_type": "code",
   "execution_count": 45,
   "metadata": {},
   "outputs": [],
   "source": [
    "def tokenize_to_words(text: str):\n",
    "    return word_tokenize(text)\n",
    "\n",
    "def tokenize_to_sents(text: str):\n",
    "    return sent_tokenize(text)\n",
    "\n",
    "def read_nips(path: str, documents_limit=None):\n",
    "    df = pd.read_csv(path, compression='gzip', sep=',')\n",
    "    docs = df['paper_text'].values.astype(np.str)\n",
    "    random = np.random.RandomState(13)\n",
    "    random.shuffle(docs)\n",
    "    sents = []\n",
    "    for doc in docs if documents_limit is None else docs[:documents_limit]:\n",
    "        sents += [tokenize_to_words(s) for s in tokenize_to_sents(doc)]\n",
    "    return sents"
   ]
  },
  {
   "cell_type": "code",
   "execution_count": 51,
   "metadata": {},
   "outputs": [],
   "source": [
    "data = read_nips(\"../resources/datasets/nips-papers.csv.gz\", documents_limit=None)"
   ]
  },
  {
   "cell_type": "code",
   "execution_count": 52,
   "metadata": {},
   "outputs": [
    {
     "name": "stdout",
     "output_type": "stream",
     "text": [
      "['Boosting', 'Density', 'Estimation', 'Saharon', 'Rosset', 'Department', 'of', 'Statistics', 'Stanford', 'University', 'Stanford', ',', 'CA', ',', '94305', 'saharon', '@', 'stat.stanford.edu', 'Eran', 'Segal', 'Computer', 'Science', 'Department', 'Stanford', 'University', 'Stanford', ',', 'CA', ',', '94305', 'eran', '@', 'cs.stanford.edu', 'Abstract', 'Several', 'authors', 'have', 'suggested', 'viewing', 'boosting', 'as', 'a', 'gradient', 'descent', 'search', 'for', 'a', 'good', 'fit', 'in', 'function', 'space', '.']\n",
      "2895745\n",
      "518761\n"
     ]
    }
   ],
   "source": [
    "print(data[0])\n",
    "print(len(data))\n",
    "vocabulary = set([w for s in data for w in s])\n",
    "print(len(vocabulary))"
   ]
  },
  {
   "cell_type": "code",
   "execution_count": 59,
   "metadata": {},
   "outputs": [],
   "source": [
    "def save_glove_embs(glove_path: str, vocab_size=400001, dim=50):\n",
    "    words = []\n",
    "    idx = 0\n",
    "    word2idx = {}\n",
    "    vectors = []\n",
    "    with open(f'{glove_path}/glove.6B.50d.txt', 'rb') as f:\n",
    "        for l in f:\n",
    "            line = l.decode().split()\n",
    "            word = line[0]\n",
    "            words.append(word)\n",
    "            word2idx[word] = idx\n",
    "            idx += 1\n",
    "            vect = np.array(line[1:]).astype(np.float)\n",
    "            vectors.append(vect)\n",
    "    vectors = np.array(vectors).reshape((vocab_size, dim))\n",
    "    return words, word2idx, vectors\n",
    "   \n",
    "dim = 50\n",
    "words, word2idx, vectors = save_glove_embs(\"../resources/models/glove.6B\", dim=dim)    "
   ]
  },
  {
   "cell_type": "code",
   "execution_count": 63,
   "metadata": {},
   "outputs": [],
   "source": [
    "UNK = \"UNK\"\n",
    "vocab = vocabulary & set(words)\n",
    "vocab.add(UNK)\n",
    "# words = list(vocab)\n",
    "for s in data:\n",
    "    for i in range(len(s)):\n",
    "        if s[i] not in vocab:\n",
    "            s[i] = UNK"
   ]
  },
  {
   "cell_type": "code",
   "execution_count": 10,
   "metadata": {},
   "outputs": [],
   "source": [
    "glove = {w: vectors[word2idx[w]] for w in words}"
   ]
  },
  {
   "cell_type": "code",
   "execution_count": null,
   "metadata": {},
   "outputs": [],
   "source": [
    "weights_matrix = np.zeros((len(vocab), dim))\n",
    "for i, word in enumerate(vocab):\n",
    "    try: \n",
    "        weights_matrix[i] = glove[word]\n",
    "        words_found += 1\n",
    "    except KeyError:\n",
    "        weights_matrix[i] = np.random.normal(scale=0.6, size=(emb_dim, ))"
   ]
  },
  {
   "cell_type": "code",
   "execution_count": null,
   "metadata": {},
   "outputs": [],
   "source": [
    "class FCNN22(nn.Module):\n",
    "def __init__(self, dim=50):\n",
    "        super(FCNN22, self).__init__()\n",
    "        self.fc1 = nn.Linear(4 * dim, 120)\n",
    "        self.fc2 = nn.Linear(120, 84)\n",
    "        self.fc3 = nn.Linear(84, 10)\n",
    "        \n",
    "    def forward(self, x):\n",
    "        x = F.relu(self.fc1(x))\n",
    "        x = F.relu(self.fc2(x))\n",
    "        x = self.fc3(x)\n",
    "        return x"
   ]
  },
  {
   "cell_type": "code",
   "execution_count": 14,
   "metadata": {},
   "outputs": [],
   "source": [
    "spacy_md = spacy.load('en_core_web_md')"
   ]
  },
  {
   "cell_type": "code",
   "execution_count": null,
   "metadata": {},
   "outputs": [],
   "source": [
    "from nltk.model.ngram import NgramModel\n",
    "lm = MLE(2)\n",
    "lm.fit()"
   ]
  }
 ],
 "metadata": {
  "kernelspec": {
   "display_name": "Python 3",
   "language": "python",
   "name": "python3"
  },
  "language_info": {
   "codemirror_mode": {
    "name": "ipython",
    "version": 3
   },
   "file_extension": ".py",
   "mimetype": "text/x-python",
   "name": "python",
   "nbconvert_exporter": "python",
   "pygments_lexer": "ipython3",
   "version": "3.7.0"
  }
 },
 "nbformat": 4,
 "nbformat_minor": 2
}
